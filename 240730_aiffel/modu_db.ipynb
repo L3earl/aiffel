{
 "cells": [
  {
   "cell_type": "code",
   "execution_count": 2,
   "metadata": {},
   "outputs": [],
   "source": [
    "# !pip install pymysql\n",
    "import pymysql"
   ]
  },
  {
   "cell_type": "code",
   "execution_count": 5,
   "metadata": {},
   "outputs": [],
   "source": [
    "conn = pymysql.connect(host='127.0.0.1', port=3305, user='root', password='1234', db='modu_db', charset='utf8')\n",
    "cur = conn.cursor()\n",
    "\n",
    "# tbl_users 테이블 생성 SQL 문\n",
    "create_table_sql = \"\"\"\n",
    "CREATE TABLE IF NOT EXISTS tbl_users (\n",
    "    idx INT AUTO_INCREMENT PRIMARY KEY,\n",
    "    user_name VARCHAR(50) NOT NULL,\n",
    "    phone VARCHAR(20) NOT NULL\n",
    ")\n",
    "\"\"\"\n",
    "\n",
    "cur.execute(create_table_sql)\n",
    "conn.commit()"
   ]
  },
  {
   "cell_type": "code",
   "execution_count": 6,
   "metadata": {},
   "outputs": [
    {
     "name": "stdout",
     "output_type": "stream",
     "text": [
      "(1, '아이유', '1111')\n",
      "(2, '홍길도', '2222')\n"
     ]
    }
   ],
   "source": [
    "insert_data_sql = \"\"\"\n",
    "INSERT INTO tbl_users (user_name, phone) VALUES \n",
    "('아이유', '1111'),\n",
    "('홍길도', '2222')\n",
    "\"\"\"\n",
    "\n",
    "cur.execute(insert_data_sql)\n",
    "conn.commit()\n",
    "\n",
    "# 데이터 조회\n",
    "sql = 'select * from tbl_users'\n",
    "cur.execute(sql)\n",
    "rows = cur.fetchall()\n",
    "\n",
    "# 결과 출력\n",
    "for row in rows:\n",
    "    print(row)"
   ]
  }
 ],
 "metadata": {
  "kernelspec": {
   "display_name": "Python 3",
   "language": "python",
   "name": "python3"
  },
  "language_info": {
   "codemirror_mode": {
    "name": "ipython",
    "version": 3
   },
   "file_extension": ".py",
   "mimetype": "text/x-python",
   "name": "python",
   "nbconvert_exporter": "python",
   "pygments_lexer": "ipython3",
   "version": "3.undefined.undefined"
  }
 },
 "nbformat": 4,
 "nbformat_minor": 2
}
